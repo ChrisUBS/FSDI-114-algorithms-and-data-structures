{
 "cells": [
  {
   "cell_type": "markdown",
   "id": "cf727eaf-e741-4b4a-9f97-d666c9df2c95",
   "metadata": {
    "scrolled": true
   },
   "source": [
    "# Stacks\n",
    "\n",
    "A **stack** is an ordered collection of elements where items are added and removed from the same end, commonly known as the **top**."
   ]
  },
  {
   "cell_type": "code",
   "execution_count": 3,
   "id": "3556bdbc-5432-4e4f-a386-22332abc3e74",
   "metadata": {},
   "outputs": [],
   "source": [
    "# Simplified Implementation of Stack (relying on built-ins)\n",
    "\n",
    "class Stack:\n",
    "    def __init__(self):\n",
    "        self.items = [] # this is a python3 list\n",
    "\n",
    "    def push(self, value):\n",
    "        self.items.append(value)\n",
    "\n",
    "    def pop(self):\n",
    "        return self.items.pop()\n",
    "\n",
    "    # Nice to have methods:\n",
    "    def peek(self):\n",
    "        return self.items(len(self.items)-1)\n",
    "\n",
    "    def is_empty(self):\n",
    "        return self.items == []\n",
    "\n",
    "    def size(self):\n",
    "        return len(self.items)"
   ]
  },
  {
   "cell_type": "markdown",
   "id": "c4dba17d-2cca-4741-b53f-e6c472f557d2",
   "metadata": {},
   "source": [
    "# Problem 1\n",
    "\n",
    "Create a function called 'invert_str' that receives a string as a parameter and returns it in inverted order as a result.\n",
    "\n",
    "## Examples\n",
    "```\n",
    "rafael -> leafar\n",
    "earth -> htrae\n",
    "hello -> olleh\n",
    "world -> dlrow\n",
    "```\n",
    "\n",
    "## Acceptance Criteria\n",
    "\n",
    "1. Your final solution **absolutely must** make use of the stack class above.\n",
    "2. You should, at a minimum, be able to present a design for you solution (pseudocode recommended, but you **can** use flowcharts). "
   ]
  },
  {
   "cell_type": "code",
   "execution_count": 5,
   "id": "eb263b68-af29-4e9e-89e8-e92735ca8540",
   "metadata": {},
   "outputs": [
    {
     "name": "stdout",
     "output_type": "stream",
     "text": [
      "dlrow\n"
     ]
    }
   ],
   "source": [
    "def invert_str(string):\n",
    "    stack = Stack()\n",
    "    for char in string:\n",
    "        stack.push(char)\n",
    "    \n",
    "    result = \"\"\n",
    "    while not stack.is_empty():\n",
    "        result += stack.pop()\n",
    "        \n",
    "    return result\n",
    "\n",
    "print(invert_str(\"world\")) # result should be \"dlrow\""
   ]
  }
 ],
 "metadata": {
  "kernelspec": {
   "display_name": "venv",
   "language": "python",
   "name": "python3"
  },
  "language_info": {
   "codemirror_mode": {
    "name": "ipython",
    "version": 3
   },
   "file_extension": ".py",
   "mimetype": "text/x-python",
   "name": "python",
   "nbconvert_exporter": "python",
   "pygments_lexer": "ipython3",
   "version": "3.12.3"
  }
 },
 "nbformat": 4,
 "nbformat_minor": 5
}
