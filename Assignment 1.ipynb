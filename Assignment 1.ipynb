{
 "cells": [
  {
   "cell_type": "markdown",
   "metadata": {},
   "source": [
    "# Class 1 - Assignment 1\n",
    "\n",
    "## Anagrams\n",
    "\n",
    "1. Create a function that checks whether two words are anagrams of each other.\n",
    "2. Two words are anagrams of each other if they have the same number of characters (letters) and use all of the same letters.\n",
    "    - For example: star and rats are anagrams of each other because they are of the same length and use all the same letters, the same number of times.\n",
    "    - Another example is cars and scar. Note again that they not only use the same letters but they use these letters the same amount of times.\n",
    "\n",
    "3. Your function must take two strings and return \"True\" if they are anagrams of each other; False otherwise.\n",
    "\n",
    "4. Your solution must ignore casing (upper, lower) and spaces such that \"I am lord voldemort\" is found to be an anagram of \"Tom Marvolo Riddle\".\n",
    "\n",
    "5. Submit your work by sending the link to your GitHub repository containing the described python function."
   ]
  },
  {
   "cell_type": "code",
   "execution_count": null,
   "metadata": {},
   "outputs": [
    {
     "name": "stdout",
     "output_type": "stream",
     "text": [
      "True\n",
      "True\n",
      "True\n",
      "False\n"
     ]
    }
   ],
   "source": [
    "def are_anagrams(str1: str, str2: str) -> bool:\n",
    "    # Remove spaces and convert to lowercase\n",
    "    cleaned_str1 = str1.replace(\" \", \"\").lower()\n",
    "    cleaned_str2 = str2.replace(\" \", \"\").lower()\n",
    "    \n",
    "    # Compare sorted versions of the strings\n",
    "    return sorted(cleaned_str1) == sorted(cleaned_str2)\n",
    "\n",
    "# Example test cases\n",
    "print(are_anagrams(\"star\", \"rats\"))  # True\n",
    "print(are_anagrams(\"cars\", \"scar\"))  # True\n",
    "print(are_anagrams(\"I am lord voldemort\", \"Tom Marvolo Riddle\"))  # True\n",
    "print(are_anagrams(\"hello\", \"world\"))  # False"
   ]
  }
 ],
 "metadata": {
  "kernelspec": {
   "display_name": "venv",
   "language": "python",
   "name": "python3"
  },
  "language_info": {
   "codemirror_mode": {
    "name": "ipython",
    "version": 3
   },
   "file_extension": ".py",
   "mimetype": "text/x-python",
   "name": "python",
   "nbconvert_exporter": "python",
   "pygments_lexer": "ipython3",
   "version": "3.12.3"
  }
 },
 "nbformat": 4,
 "nbformat_minor": 2
}
