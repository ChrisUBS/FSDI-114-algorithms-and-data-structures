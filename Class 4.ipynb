{
 "cells": [
  {
   "cell_type": "markdown",
   "metadata": {},
   "source": [
    "# Problem 1\n",
    "\n",
    "## Anagram Check\n",
    "Create a function, 'anagram_check', that receives two arguments of type string and determines if these are anagrams of each other (criteria below), returning 'True' if these are anagrams of each other, 'False' otherwise.\n",
    "\n",
    "## Criteria\n",
    "Two strings are anagrams of each other if, and only if, all the criteria below are met:\n",
    "1. They must use contain the same amount of letters.\n",
    "2. They must use the same letters the same amount of times.\n",
    "\n",
    "# Examples\n",
    "```\n",
    "heart and earth\n",
    "cars and scar\n",
    "rats and star\n",
    "```\n",
    "\n",
    "## Note\n",
    "The three examples above are just examples, there may be other strings (many) that meet the criteria above."
   ]
  },
  {
   "cell_type": "code",
   "execution_count": 12,
   "metadata": {},
   "outputs": [
    {
     "name": "stdout",
     "output_type": "stream",
     "text": [
      "True\n",
      "True\n",
      "True\n",
      "True\n",
      "False\n"
     ]
    }
   ],
   "source": [
    "def anagram_check(str1: str, str2: str) -> bool:\n",
    "    # Remove spaces and convert to lowercase\n",
    "    cleaned_str1 = str1.replace(\" \", \"\").lower()\n",
    "    cleaned_str2 = str2.replace(\" \", \"\").lower()\n",
    "    \n",
    "    # Compare sorted versions of the strings\n",
    "    result = sorted(cleaned_str1) == sorted(cleaned_str2)\n",
    "    \n",
    "    return result\n",
    "\n",
    "# Example test cases\n",
    "print(anagram_check(\"heart\", \"earth\")) #True\n",
    "print(anagram_check(\"cars\", \"scar\"))  # True\n",
    "print(anagram_check(\"star\", \"rats\"))  # True\n",
    "print(anagram_check(\"A gentleman\", \"Elegant man\")) # True\n",
    "print(anagram_check(\"hello\", \"world\"))  # False"
   ]
  },
  {
   "cell_type": "code",
   "execution_count": null,
   "metadata": {},
   "outputs": [],
   "source": [
    "# Pseudocode version\n",
    "\n",
    "# define function \"anagram_check\" with params string1 and string2:\n",
    "#    string1 = string1 without spaces in lower case\n",
    "#    string2 = string2 without spaces in lower case\n",
    "#    if the length if string1 is not equal to the length of string2:\n",
    "#        return False\n",
    "#    otherwise:\n",
    "#        d1 = new dictionary\n",
    "#        d2 = new dictionary\n",
    "#        for each \"number\" in the range from 0 to the length of string1:\n",
    "#            if the character at position \"number\" in string1 is not in d1:\n",
    "#                add that character to d1 as a key, and set its value to 1            # indicating we've seen this character once\n",
    "#            otherwise:\n",
    "#                add 1 to the value associated with this character in d1              # indicating we've seen it more than once\n",
    "#            if the character at position \"number\" in string2 is not in d2:\n",
    "#                add that character to d2 as a key, and set its value to 1            # indicating we've seen this character once\n",
    "#            otherwise:\n",
    "#                add 1 to the value associated with this character in d2              # indicating we've seen it more than once\n",
    "#    if d1 == d2:\n",
    "#        return True\n",
    "#    otherwise:\n",
    "#        return False"
   ]
  },
  {
   "cell_type": "markdown",
   "metadata": {},
   "source": [
    "# Final Problem\n",
    "\n",
    "Given what you've learned about singly linked lists:\n",
    "1. First: copy the Singly Linked List from class 3, then\n",
    "2. Update it, so that it uses a doubly linked node,\n",
    "3. Then: complete the operations.\n",
    "\n",
    "## Note\n",
    "You will need to 'refactor' the code to get it to work, as each operation is now twice as complex."
   ]
  }
 ],
 "metadata": {
  "kernelspec": {
   "display_name": "venv",
   "language": "python",
   "name": "python3"
  },
  "language_info": {
   "codemirror_mode": {
    "name": "ipython",
    "version": 3
   },
   "file_extension": ".py",
   "mimetype": "text/x-python",
   "name": "python",
   "nbconvert_exporter": "python",
   "pygments_lexer": "ipython3",
   "version": "3.12.3"
  }
 },
 "nbformat": 4,
 "nbformat_minor": 2
}
